{
 "cells": [
  {
   "cell_type": "markdown",
   "metadata": {},
   "source": [
    "## Tercera parte pandas \n",
    "- Operaciones con fechas\n",
    "- Combinar dataframes\n",
    "- Reacomodar datos "
   ]
  },
  {
   "cell_type": "code",
   "execution_count": 1,
   "metadata": {
    "collapsed": false
   },
   "outputs": [
    {
     "name": "stdout",
     "output_type": "stream",
     "text": [
      "%pylab is deprecated, use %matplotlib inline and import the required libraries.\n",
      "Populating the interactive namespace from numpy and matplotlib\n"
     ]
    }
   ],
   "source": [
    "%pylab inline\n",
    "import pandas as pd"
   ]
  },
  {
   "cell_type": "code",
   "execution_count": 2,
   "metadata": {
    "collapsed": false
   },
   "outputs": [
    {
     "data": {
      "text/html": [
       "<div>\n",
       "<style scoped>\n",
       "    .dataframe tbody tr th:only-of-type {\n",
       "        vertical-align: middle;\n",
       "    }\n",
       "\n",
       "    .dataframe tbody tr th {\n",
       "        vertical-align: top;\n",
       "    }\n",
       "\n",
       "    .dataframe thead th {\n",
       "        text-align: right;\n",
       "    }\n",
       "</style>\n",
       "<table border=\"1\" class=\"dataframe\">\n",
       "  <thead>\n",
       "    <tr style=\"text-align: right;\">\n",
       "      <th></th>\n",
       "      <th>title</th>\n",
       "      <th>year</th>\n",
       "      <th>name</th>\n",
       "      <th>type</th>\n",
       "      <th>character</th>\n",
       "      <th>n</th>\n",
       "    </tr>\n",
       "  </thead>\n",
       "  <tbody>\n",
       "    <tr>\n",
       "      <th>0</th>\n",
       "      <td>Closet Monster</td>\n",
       "      <td>2015</td>\n",
       "      <td>Buffy #1</td>\n",
       "      <td>actor</td>\n",
       "      <td>Buffy 4</td>\n",
       "      <td>31.0</td>\n",
       "    </tr>\n",
       "    <tr>\n",
       "      <th>1</th>\n",
       "      <td>Suuri illusioni</td>\n",
       "      <td>1985</td>\n",
       "      <td>Homo $</td>\n",
       "      <td>actor</td>\n",
       "      <td>Guests</td>\n",
       "      <td>22.0</td>\n",
       "    </tr>\n",
       "    <tr>\n",
       "      <th>2</th>\n",
       "      <td>Battle of the Sexes</td>\n",
       "      <td>2017</td>\n",
       "      <td>$hutter</td>\n",
       "      <td>actor</td>\n",
       "      <td>Bobby Riggs Fan</td>\n",
       "      <td>10.0</td>\n",
       "    </tr>\n",
       "    <tr>\n",
       "      <th>3</th>\n",
       "      <td>Secret in Their Eyes</td>\n",
       "      <td>2015</td>\n",
       "      <td>$hutter</td>\n",
       "      <td>actor</td>\n",
       "      <td>2002 Dodger Fan</td>\n",
       "      <td>NaN</td>\n",
       "    </tr>\n",
       "    <tr>\n",
       "      <th>4</th>\n",
       "      <td>Steve Jobs</td>\n",
       "      <td>2015</td>\n",
       "      <td>$hutter</td>\n",
       "      <td>actor</td>\n",
       "      <td>1988 Opera House Patron</td>\n",
       "      <td>NaN</td>\n",
       "    </tr>\n",
       "  </tbody>\n",
       "</table>\n",
       "</div>"
      ],
      "text/plain": [
       "                  title  year      name   type                character     n\n",
       "0        Closet Monster  2015  Buffy #1  actor                  Buffy 4  31.0\n",
       "1       Suuri illusioni  1985    Homo $  actor                   Guests  22.0\n",
       "2   Battle of the Sexes  2017   $hutter  actor          Bobby Riggs Fan  10.0\n",
       "3  Secret in Their Eyes  2015   $hutter  actor          2002 Dodger Fan   NaN\n",
       "4            Steve Jobs  2015   $hutter  actor  1988 Opera House Patron   NaN"
      ]
     },
     "execution_count": 2,
     "metadata": {},
     "output_type": "execute_result"
    }
   ],
   "source": [
    "# Cargar nuestra base de datos de elencos\n",
    "elenco = pd.read_csv('data/cast/cast.csv', encoding='utf-8')\n",
    "elenco.head()"
   ]
  },
  {
   "cell_type": "code",
   "execution_count": 3,
   "metadata": {
    "collapsed": false
   },
   "outputs": [
    {
     "data": {
      "text/html": [
       "<div>\n",
       "<style scoped>\n",
       "    .dataframe tbody tr th:only-of-type {\n",
       "        vertical-align: middle;\n",
       "    }\n",
       "\n",
       "    .dataframe tbody tr th {\n",
       "        vertical-align: top;\n",
       "    }\n",
       "\n",
       "    .dataframe thead th {\n",
       "        text-align: right;\n",
       "    }\n",
       "</style>\n",
       "<table border=\"1\" class=\"dataframe\">\n",
       "  <thead>\n",
       "    <tr style=\"text-align: right;\">\n",
       "      <th></th>\n",
       "      <th>title</th>\n",
       "      <th>year</th>\n",
       "      <th>country</th>\n",
       "      <th>date</th>\n",
       "    </tr>\n",
       "  </thead>\n",
       "  <tbody>\n",
       "    <tr>\n",
       "      <th>0</th>\n",
       "      <td>#73, Shaanthi Nivaasa</td>\n",
       "      <td>2007</td>\n",
       "      <td>India</td>\n",
       "      <td>2007-06-15</td>\n",
       "    </tr>\n",
       "    <tr>\n",
       "      <th>1</th>\n",
       "      <td>#Beings</td>\n",
       "      <td>2015</td>\n",
       "      <td>Romania</td>\n",
       "      <td>2015-01-29</td>\n",
       "    </tr>\n",
       "    <tr>\n",
       "      <th>2</th>\n",
       "      <td>#Ewankosau saranghaeyo</td>\n",
       "      <td>2015</td>\n",
       "      <td>Philippines</td>\n",
       "      <td>2015-01-21</td>\n",
       "    </tr>\n",
       "    <tr>\n",
       "      <th>3</th>\n",
       "      <td>#Horror</td>\n",
       "      <td>2015</td>\n",
       "      <td>USA</td>\n",
       "      <td>2015-11-20</td>\n",
       "    </tr>\n",
       "    <tr>\n",
       "      <th>4</th>\n",
       "      <td>#Horror</td>\n",
       "      <td>2015</td>\n",
       "      <td>UK</td>\n",
       "      <td>2016-05-16</td>\n",
       "    </tr>\n",
       "  </tbody>\n",
       "</table>\n",
       "</div>"
      ],
      "text/plain": [
       "                    title  year      country        date\n",
       "0   #73, Shaanthi Nivaasa  2007        India  2007-06-15\n",
       "1                 #Beings  2015      Romania  2015-01-29\n",
       "2  #Ewankosau saranghaeyo  2015  Philippines  2015-01-21\n",
       "3                 #Horror  2015          USA  2015-11-20\n",
       "4                 #Horror  2015           UK  2016-05-16"
      ]
     },
     "execution_count": 3,
     "metadata": {},
     "output_type": "execute_result"
    }
   ],
   "source": [
    "# Ahora tambien cargaremos datos de otra base de datos\n",
    "# \n",
    "fecha_lanz = pd.read_csv('data/release_dates/release_dates.csv', encoding='utf-8')\n",
    "fecha_lanz.head()"
   ]
  },
  {
   "cell_type": "code",
   "execution_count": 4,
   "metadata": {
    "collapsed": false
   },
   "outputs": [
    {
     "data": {
      "text/html": [
       "<div>\n",
       "<style scoped>\n",
       "    .dataframe tbody tr th:only-of-type {\n",
       "        vertical-align: middle;\n",
       "    }\n",
       "\n",
       "    .dataframe tbody tr th {\n",
       "        vertical-align: top;\n",
       "    }\n",
       "\n",
       "    .dataframe thead th {\n",
       "        text-align: right;\n",
       "    }\n",
       "</style>\n",
       "<table border=\"1\" class=\"dataframe\">\n",
       "  <thead>\n",
       "    <tr style=\"text-align: right;\">\n",
       "      <th></th>\n",
       "      <th>title</th>\n",
       "      <th>year</th>\n",
       "      <th>country</th>\n",
       "      <th>date</th>\n",
       "    </tr>\n",
       "  </thead>\n",
       "  <tbody>\n",
       "    <tr>\n",
       "      <th>0</th>\n",
       "      <td>#73, Shaanthi Nivaasa</td>\n",
       "      <td>2007</td>\n",
       "      <td>India</td>\n",
       "      <td>2007-06-15</td>\n",
       "    </tr>\n",
       "    <tr>\n",
       "      <th>1</th>\n",
       "      <td>#Beings</td>\n",
       "      <td>2015</td>\n",
       "      <td>Romania</td>\n",
       "      <td>2015-01-29</td>\n",
       "    </tr>\n",
       "    <tr>\n",
       "      <th>2</th>\n",
       "      <td>#Ewankosau saranghaeyo</td>\n",
       "      <td>2015</td>\n",
       "      <td>Philippines</td>\n",
       "      <td>2015-01-21</td>\n",
       "    </tr>\n",
       "    <tr>\n",
       "      <th>3</th>\n",
       "      <td>#Horror</td>\n",
       "      <td>2015</td>\n",
       "      <td>USA</td>\n",
       "      <td>2015-11-20</td>\n",
       "    </tr>\n",
       "    <tr>\n",
       "      <th>4</th>\n",
       "      <td>#Horror</td>\n",
       "      <td>2015</td>\n",
       "      <td>UK</td>\n",
       "      <td>2016-05-16</td>\n",
       "    </tr>\n",
       "  </tbody>\n",
       "</table>\n",
       "</div>"
      ],
      "text/plain": [
       "                    title  year      country       date\n",
       "0   #73, Shaanthi Nivaasa  2007        India 2007-06-15\n",
       "1                 #Beings  2015      Romania 2015-01-29\n",
       "2  #Ewankosau saranghaeyo  2015  Philippines 2015-01-21\n",
       "3                 #Horror  2015          USA 2015-11-20\n",
       "4                 #Horror  2015           UK 2016-05-16"
      ]
     },
     "execution_count": 4,
     "metadata": {},
     "output_type": "execute_result"
    }
   ],
   "source": [
    "# Que tal si cargamos esta base de datos pero la columna date la convertirmos a un \n",
    "# formato datetime que tiene metodos para hacer operaciones sobre fechas.. Mejor!\n",
    "\n",
    "fecha_lanz = pd.read_csv('data/release_dates/release_dates.csv' , parse_dates=['date'], infer_datetime_format=True)\n",
    "fecha_lanz.head()"
   ]
  },
  {
   "cell_type": "code",
   "execution_count": 5,
   "metadata": {
    "collapsed": false
   },
   "outputs": [
    {
     "data": {
      "text/plain": [
       "0         2007\n",
       "1         2015\n",
       "2         2015\n",
       "3         2015\n",
       "4         2016\n",
       "          ... \n",
       "443551    2005\n",
       "443552    2005\n",
       "443553    2005\n",
       "443554    2005\n",
       "443555    2005\n",
       "Name: date, Length: 443556, dtype: int64"
      ]
     },
     "execution_count": 5,
     "metadata": {},
     "output_type": "execute_result"
    }
   ],
   "source": [
    "# Podemos acceder a los metodos del namespace datetime, en pandas \"dt\"\n",
    "fl = fecha_lanz\n",
    "\n",
    "fl.date.dt.year"
   ]
  },
  {
   "cell_type": "code",
   "execution_count": 6,
   "metadata": {
    "collapsed": true
   },
   "outputs": [],
   "source": [
    "# Con esto que podemos hacer un listado categorizando por algun elemento de la \n",
    "# fecha como por ejemplo:\n"
   ]
  },
  {
   "cell_type": "code",
   "execution_count": 7,
   "metadata": {
    "collapsed": false
   },
   "outputs": [
    {
     "data": {
      "text/plain": [
       "<AxesSubplot: >"
      ]
     },
     "execution_count": 7,
     "metadata": {},
     "output_type": "execute_result"
    },
    {
     "data": {
      "image/png": "[encoded data removed]",
      "text/plain": [
       "<Figure size 640x480 with 1 Axes>"
      ]
     },
     "metadata": {},
     "output_type": "display_data"
    }
   ],
   "source": [
    "# En que meses se lanzan mas comunmente peliculas que contienen la palabra\n",
    "# \"horror\"\n",
    "\n",
    "\n",
    "fl = fecha_lanz \n",
    "\n",
    "\n",
    "fl = fl[(fl.title.str.contains('horror',case=False)) & (fl.country == 'USA')]\n",
    "\n",
    "fl.date.dt.month.value_counts().sort_index().plot(kind='bar')"
   ]
  },
  {
   "cell_type": "code",
   "execution_count": 8,
   "metadata": {
    "collapsed": true
   },
   "outputs": [],
   "source": [
    "# Exploremos la funcionalidad para unir dataframes con el metodo \"merge\""
   ]
  },
  {
   "cell_type": "code",
   "execution_count": 9,
   "metadata": {
    "collapsed": false
   },
   "outputs": [
    {
     "data": {
      "text/html": [
       "<div>\n",
       "<style scoped>\n",
       "    .dataframe tbody tr th:only-of-type {\n",
       "        vertical-align: middle;\n",
       "    }\n",
       "\n",
       "    .dataframe tbody tr th {\n",
       "        vertical-align: top;\n",
       "    }\n",
       "\n",
       "    .dataframe thead th {\n",
       "        text-align: right;\n",
       "    }\n",
       "</style>\n",
       "<table border=\"1\" class=\"dataframe\">\n",
       "  <thead>\n",
       "    <tr style=\"text-align: right;\">\n",
       "      <th></th>\n",
       "      <th>title</th>\n",
       "      <th>year</th>\n",
       "      <th>name</th>\n",
       "      <th>type</th>\n",
       "      <th>character</th>\n",
       "      <th>n</th>\n",
       "    </tr>\n",
       "  </thead>\n",
       "  <tbody>\n",
       "    <tr>\n",
       "      <th>2288261</th>\n",
       "      <td>2 Guns</td>\n",
       "      <td>2013</td>\n",
       "      <td>Denzel Washington</td>\n",
       "      <td>actor</td>\n",
       "      <td>Bobby</td>\n",
       "      <td>1.0</td>\n",
       "    </tr>\n",
       "    <tr>\n",
       "      <th>2288262</th>\n",
       "      <td>A Soldier's Story</td>\n",
       "      <td>1984</td>\n",
       "      <td>Denzel Washington</td>\n",
       "      <td>actor</td>\n",
       "      <td>Private First Class Peterson</td>\n",
       "      <td>9.0</td>\n",
       "    </tr>\n",
       "    <tr>\n",
       "      <th>2288263</th>\n",
       "      <td>American Gangster</td>\n",
       "      <td>2007</td>\n",
       "      <td>Denzel Washington</td>\n",
       "      <td>actor</td>\n",
       "      <td>Frank Lucas</td>\n",
       "      <td>1.0</td>\n",
       "    </tr>\n",
       "    <tr>\n",
       "      <th>2288264</th>\n",
       "      <td>Antwone Fisher</td>\n",
       "      <td>2002</td>\n",
       "      <td>Denzel Washington</td>\n",
       "      <td>actor</td>\n",
       "      <td>Dr. Jerome Davenport</td>\n",
       "      <td>4.0</td>\n",
       "    </tr>\n",
       "    <tr>\n",
       "      <th>2288265</th>\n",
       "      <td>Carbon Copy</td>\n",
       "      <td>1981</td>\n",
       "      <td>Denzel Washington</td>\n",
       "      <td>actor</td>\n",
       "      <td>Roger Porter</td>\n",
       "      <td>5.0</td>\n",
       "    </tr>\n",
       "  </tbody>\n",
       "</table>\n",
       "</div>"
      ],
      "text/plain": [
       "                     title  year               name   type  \\\n",
       "2288261             2 Guns  2013  Denzel Washington  actor   \n",
       "2288262  A Soldier's Story  1984  Denzel Washington  actor   \n",
       "2288263  American Gangster  2007  Denzel Washington  actor   \n",
       "2288264     Antwone Fisher  2002  Denzel Washington  actor   \n",
       "2288265        Carbon Copy  1981  Denzel Washington  actor   \n",
       "\n",
       "                            character    n  \n",
       "2288261                         Bobby  1.0  \n",
       "2288262  Private First Class Peterson  9.0  \n",
       "2288263                   Frank Lucas  1.0  \n",
       "2288264          Dr. Jerome Davenport  4.0  \n",
       "2288265                  Roger Porter  5.0  "
      ]
     },
     "execution_count": 9,
     "metadata": {},
     "output_type": "execute_result"
    }
   ],
   "source": [
    "e = elenco\n",
    "e = e[e.name == \"Denzel Washington\"]\n",
    "e.head()"
   ]
  },
  {
   "cell_type": "code",
   "execution_count": 10,
   "metadata": {
    "collapsed": true
   },
   "outputs": [],
   "source": [
    "# Nos interesa conocer la fecha de lanzamiento de las peliculas en la que ah participado \n",
    "# Denzel Washington.. Pero esa información esta en otro dataframe!!"
   ]
  },
  {
   "cell_type": "code",
   "execution_count": 11,
   "metadata": {
    "collapsed": false
   },
   "outputs": [
    {
     "data": {
      "text/html": [
       "<div>\n",
       "<style scoped>\n",
       "    .dataframe tbody tr th:only-of-type {\n",
       "        vertical-align: middle;\n",
       "    }\n",
       "\n",
       "    .dataframe tbody tr th {\n",
       "        vertical-align: top;\n",
       "    }\n",
       "\n",
       "    .dataframe thead th {\n",
       "        text-align: right;\n",
       "    }\n",
       "</style>\n",
       "<table border=\"1\" class=\"dataframe\">\n",
       "  <thead>\n",
       "    <tr style=\"text-align: right;\">\n",
       "      <th></th>\n",
       "      <th>title</th>\n",
       "      <th>year</th>\n",
       "      <th>country</th>\n",
       "      <th>date</th>\n",
       "    </tr>\n",
       "  </thead>\n",
       "  <tbody>\n",
       "    <tr>\n",
       "      <th>0</th>\n",
       "      <td>#73, Shaanthi Nivaasa</td>\n",
       "      <td>2007</td>\n",
       "      <td>India</td>\n",
       "      <td>2007-06-15</td>\n",
       "    </tr>\n",
       "    <tr>\n",
       "      <th>1</th>\n",
       "      <td>#Beings</td>\n",
       "      <td>2015</td>\n",
       "      <td>Romania</td>\n",
       "      <td>2015-01-29</td>\n",
       "    </tr>\n",
       "    <tr>\n",
       "      <th>2</th>\n",
       "      <td>#Ewankosau saranghaeyo</td>\n",
       "      <td>2015</td>\n",
       "      <td>Philippines</td>\n",
       "      <td>2015-01-21</td>\n",
       "    </tr>\n",
       "    <tr>\n",
       "      <th>3</th>\n",
       "      <td>#Horror</td>\n",
       "      <td>2015</td>\n",
       "      <td>USA</td>\n",
       "      <td>2015-11-20</td>\n",
       "    </tr>\n",
       "    <tr>\n",
       "      <th>4</th>\n",
       "      <td>#Horror</td>\n",
       "      <td>2015</td>\n",
       "      <td>UK</td>\n",
       "      <td>2016-05-16</td>\n",
       "    </tr>\n",
       "  </tbody>\n",
       "</table>\n",
       "</div>"
      ],
      "text/plain": [
       "                    title  year      country       date\n",
       "0   #73, Shaanthi Nivaasa  2007        India 2007-06-15\n",
       "1                 #Beings  2015      Romania 2015-01-29\n",
       "2  #Ewankosau saranghaeyo  2015  Philippines 2015-01-21\n",
       "3                 #Horror  2015          USA 2015-11-20\n",
       "4                 #Horror  2015           UK 2016-05-16"
      ]
     },
     "execution_count": 11,
     "metadata": {},
     "output_type": "execute_result"
    }
   ],
   "source": [
    "fl = fecha_lanz\n",
    "fl.head()"
   ]
  },
  {
   "cell_type": "code",
   "execution_count": 12,
   "metadata": {
    "collapsed": false
   },
   "outputs": [
    {
     "data": {
      "text/html": [
       "<div>\n",
       "<style scoped>\n",
       "    .dataframe tbody tr th:only-of-type {\n",
       "        vertical-align: middle;\n",
       "    }\n",
       "\n",
       "    .dataframe tbody tr th {\n",
       "        vertical-align: top;\n",
       "    }\n",
       "\n",
       "    .dataframe thead th {\n",
       "        text-align: right;\n",
       "    }\n",
       "</style>\n",
       "<table border=\"1\" class=\"dataframe\">\n",
       "  <thead>\n",
       "    <tr style=\"text-align: right;\">\n",
       "      <th></th>\n",
       "      <th>title</th>\n",
       "      <th>year</th>\n",
       "      <th>name</th>\n",
       "      <th>type</th>\n",
       "      <th>character</th>\n",
       "      <th>n</th>\n",
       "      <th>country</th>\n",
       "      <th>date</th>\n",
       "    </tr>\n",
       "  </thead>\n",
       "  <tbody>\n",
       "    <tr>\n",
       "      <th>0</th>\n",
       "      <td>2 Guns</td>\n",
       "      <td>2013</td>\n",
       "      <td>Denzel Washington</td>\n",
       "      <td>actor</td>\n",
       "      <td>Bobby</td>\n",
       "      <td>1.0</td>\n",
       "      <td>Thailand</td>\n",
       "      <td>2013-08-01</td>\n",
       "    </tr>\n",
       "    <tr>\n",
       "      <th>1</th>\n",
       "      <td>2 Guns</td>\n",
       "      <td>2013</td>\n",
       "      <td>Denzel Washington</td>\n",
       "      <td>actor</td>\n",
       "      <td>Bobby</td>\n",
       "      <td>1.0</td>\n",
       "      <td>Canada</td>\n",
       "      <td>2013-08-02</td>\n",
       "    </tr>\n",
       "    <tr>\n",
       "      <th>2</th>\n",
       "      <td>2 Guns</td>\n",
       "      <td>2013</td>\n",
       "      <td>Denzel Washington</td>\n",
       "      <td>actor</td>\n",
       "      <td>Bobby</td>\n",
       "      <td>1.0</td>\n",
       "      <td>Turkey</td>\n",
       "      <td>2013-08-02</td>\n",
       "    </tr>\n",
       "    <tr>\n",
       "      <th>3</th>\n",
       "      <td>2 Guns</td>\n",
       "      <td>2013</td>\n",
       "      <td>Denzel Washington</td>\n",
       "      <td>actor</td>\n",
       "      <td>Bobby</td>\n",
       "      <td>1.0</td>\n",
       "      <td>USA</td>\n",
       "      <td>2013-08-02</td>\n",
       "    </tr>\n",
       "    <tr>\n",
       "      <th>4</th>\n",
       "      <td>2 Guns</td>\n",
       "      <td>2013</td>\n",
       "      <td>Denzel Washington</td>\n",
       "      <td>actor</td>\n",
       "      <td>Bobby</td>\n",
       "      <td>1.0</td>\n",
       "      <td>Iceland</td>\n",
       "      <td>2013-08-08</td>\n",
       "    </tr>\n",
       "    <tr>\n",
       "      <th>...</th>\n",
       "      <td>...</td>\n",
       "      <td>...</td>\n",
       "      <td>...</td>\n",
       "      <td>...</td>\n",
       "      <td>...</td>\n",
       "      <td>...</td>\n",
       "      <td>...</td>\n",
       "      <td>...</td>\n",
       "    </tr>\n",
       "    <tr>\n",
       "      <th>1380</th>\n",
       "      <td>Virtuosity</td>\n",
       "      <td>1995</td>\n",
       "      <td>Denzel Washington</td>\n",
       "      <td>actor</td>\n",
       "      <td>Lt. Parker Barnes</td>\n",
       "      <td>1.0</td>\n",
       "      <td>Greece</td>\n",
       "      <td>1996-01-05</td>\n",
       "    </tr>\n",
       "    <tr>\n",
       "      <th>1381</th>\n",
       "      <td>Virtuosity</td>\n",
       "      <td>1995</td>\n",
       "      <td>Denzel Washington</td>\n",
       "      <td>actor</td>\n",
       "      <td>Lt. Parker Barnes</td>\n",
       "      <td>1.0</td>\n",
       "      <td>Brazil</td>\n",
       "      <td>1996-02-16</td>\n",
       "    </tr>\n",
       "    <tr>\n",
       "      <th>1382</th>\n",
       "      <td>Virtuosity</td>\n",
       "      <td>1995</td>\n",
       "      <td>Denzel Washington</td>\n",
       "      <td>actor</td>\n",
       "      <td>Lt. Parker Barnes</td>\n",
       "      <td>1.0</td>\n",
       "      <td>UK</td>\n",
       "      <td>1996-05-31</td>\n",
       "    </tr>\n",
       "    <tr>\n",
       "      <th>1383</th>\n",
       "      <td>Virtuosity</td>\n",
       "      <td>1995</td>\n",
       "      <td>Denzel Washington</td>\n",
       "      <td>actor</td>\n",
       "      <td>Lt. Parker Barnes</td>\n",
       "      <td>1.0</td>\n",
       "      <td>Japan</td>\n",
       "      <td>1996-06-08</td>\n",
       "    </tr>\n",
       "    <tr>\n",
       "      <th>1384</th>\n",
       "      <td>Virtuosity</td>\n",
       "      <td>1995</td>\n",
       "      <td>Denzel Washington</td>\n",
       "      <td>actor</td>\n",
       "      <td>Lt. Parker Barnes</td>\n",
       "      <td>1.0</td>\n",
       "      <td>Finland</td>\n",
       "      <td>1996-07-05</td>\n",
       "    </tr>\n",
       "  </tbody>\n",
       "</table>\n",
       "<p>1385 rows × 8 columns</p>\n",
       "</div>"
      ],
      "text/plain": [
       "           title  year               name   type          character    n  \\\n",
       "0         2 Guns  2013  Denzel Washington  actor              Bobby  1.0   \n",
       "1         2 Guns  2013  Denzel Washington  actor              Bobby  1.0   \n",
       "2         2 Guns  2013  Denzel Washington  actor              Bobby  1.0   \n",
       "3         2 Guns  2013  Denzel Washington  actor              Bobby  1.0   \n",
       "4         2 Guns  2013  Denzel Washington  actor              Bobby  1.0   \n",
       "...          ...   ...                ...    ...                ...  ...   \n",
       "1380  Virtuosity  1995  Denzel Washington  actor  Lt. Parker Barnes  1.0   \n",
       "1381  Virtuosity  1995  Denzel Washington  actor  Lt. Parker Barnes  1.0   \n",
       "1382  Virtuosity  1995  Denzel Washington  actor  Lt. Parker Barnes  1.0   \n",
       "1383  Virtuosity  1995  Denzel Washington  actor  Lt. Parker Barnes  1.0   \n",
       "1384  Virtuosity  1995  Denzel Washington  actor  Lt. Parker Barnes  1.0   \n",
       "\n",
       "       country       date  \n",
       "0     Thailand 2013-08-01  \n",
       "1       Canada 2013-08-02  \n",
       "2       Turkey 2013-08-02  \n",
       "3          USA 2013-08-02  \n",
       "4      Iceland 2013-08-08  \n",
       "...        ...        ...  \n",
       "1380    Greece 1996-01-05  \n",
       "1381    Brazil 1996-02-16  \n",
       "1382        UK 1996-05-31  \n",
       "1383     Japan 1996-06-08  \n",
       "1384   Finland 1996-07-05  \n",
       "\n",
       "[1385 rows x 8 columns]"
      ]
     },
     "execution_count": 12,
     "metadata": {},
     "output_type": "execute_result"
    }
   ],
   "source": [
    "# Es realmente sencillo con pandas y su poderoso comando \"merge\"\n",
    "e = elenco\n",
    "\n",
    "e = e[e.name == \"Denzel Washington\"]\n",
    "\n",
    "e = e.merge(fecha_lanz)\n",
    "e"
   ]
  },
  {
   "cell_type": "code",
   "execution_count": 13,
   "metadata": {
    "collapsed": true
   },
   "outputs": [],
   "source": [
    "# Pero como funciona? \n",
    "# Empata para ambas dimensiones --> keys e indices las coincidencias y \n",
    "# agrega las entradas que no estan disponibles en el primer dataframe\n",
    "\n",
    "# Por default nos funciono, pero el comando es muy flexible.\n",
    "# Mas información: http://pandas.pydata.org/pandas-docs/stable/merging.html"
   ]
  },
  {
   "cell_type": "code",
   "execution_count": null,
   "metadata": {
    "collapsed": true
   },
   "outputs": [],
   "source": []
  },
  {
   "cell_type": "markdown",
   "metadata": {},
   "source": [
    "## Otro concepto: Pivot"
   ]
  },
  {
   "cell_type": "code",
   "execution_count": 14,
   "metadata": {
    "collapsed": false
   },
   "outputs": [
    {
     "data": {
      "text/html": [
       "<div>\n",
       "<style scoped>\n",
       "    .dataframe tbody tr th:only-of-type {\n",
       "        vertical-align: middle;\n",
       "    }\n",
       "\n",
       "    .dataframe tbody tr th {\n",
       "        vertical-align: top;\n",
       "    }\n",
       "\n",
       "    .dataframe thead th {\n",
       "        text-align: right;\n",
       "    }\n",
       "</style>\n",
       "<table border=\"1\" class=\"dataframe\">\n",
       "  <thead>\n",
       "    <tr style=\"text-align: right;\">\n",
       "      <th></th>\n",
       "      <th>title</th>\n",
       "      <th>year</th>\n",
       "      <th>country</th>\n",
       "      <th>date</th>\n",
       "    </tr>\n",
       "  </thead>\n",
       "  <tbody>\n",
       "    <tr>\n",
       "      <th>138430</th>\n",
       "      <td>Harry Potter and the Chamber of Secrets</td>\n",
       "      <td>2002</td>\n",
       "      <td>Canada</td>\n",
       "      <td>2002-11-15</td>\n",
       "    </tr>\n",
       "    <tr>\n",
       "      <th>138434</th>\n",
       "      <td>Harry Potter and the Chamber of Secrets</td>\n",
       "      <td>2002</td>\n",
       "      <td>USA</td>\n",
       "      <td>2002-11-15</td>\n",
       "    </tr>\n",
       "    <tr>\n",
       "      <th>138452</th>\n",
       "      <td>Harry Potter and the Chamber of Secrets</td>\n",
       "      <td>2002</td>\n",
       "      <td>Mexico</td>\n",
       "      <td>2002-11-29</td>\n",
       "    </tr>\n",
       "    <tr>\n",
       "      <th>138499</th>\n",
       "      <td>Harry Potter and the Deathly Hallows: Part 1</td>\n",
       "      <td>2010</td>\n",
       "      <td>Mexico</td>\n",
       "      <td>2010-11-18</td>\n",
       "    </tr>\n",
       "    <tr>\n",
       "      <th>138511</th>\n",
       "      <td>Harry Potter and the Deathly Hallows: Part 1</td>\n",
       "      <td>2010</td>\n",
       "      <td>Canada</td>\n",
       "      <td>2010-11-19</td>\n",
       "    </tr>\n",
       "    <tr>\n",
       "      <th>138529</th>\n",
       "      <td>Harry Potter and the Deathly Hallows: Part 1</td>\n",
       "      <td>2010</td>\n",
       "      <td>USA</td>\n",
       "      <td>2010-11-19</td>\n",
       "    </tr>\n",
       "    <tr>\n",
       "      <th>138584</th>\n",
       "      <td>Harry Potter and the Deathly Hallows: Part 2</td>\n",
       "      <td>2011</td>\n",
       "      <td>Canada</td>\n",
       "      <td>2011-07-15</td>\n",
       "    </tr>\n",
       "    <tr>\n",
       "      <th>138592</th>\n",
       "      <td>Harry Potter and the Deathly Hallows: Part 2</td>\n",
       "      <td>2011</td>\n",
       "      <td>Mexico</td>\n",
       "      <td>2011-07-15</td>\n",
       "    </tr>\n",
       "    <tr>\n",
       "      <th>138600</th>\n",
       "      <td>Harry Potter and the Deathly Hallows: Part 2</td>\n",
       "      <td>2011</td>\n",
       "      <td>USA</td>\n",
       "      <td>2011-07-15</td>\n",
       "    </tr>\n",
       "    <tr>\n",
       "      <th>138616</th>\n",
       "      <td>Harry Potter and the Goblet of Fire</td>\n",
       "      <td>2005</td>\n",
       "      <td>Canada</td>\n",
       "      <td>2005-11-18</td>\n",
       "    </tr>\n",
       "    <tr>\n",
       "      <th>138623</th>\n",
       "      <td>Harry Potter and the Goblet of Fire</td>\n",
       "      <td>2005</td>\n",
       "      <td>Mexico</td>\n",
       "      <td>2005-11-18</td>\n",
       "    </tr>\n",
       "    <tr>\n",
       "      <th>138629</th>\n",
       "      <td>Harry Potter and the Goblet of Fire</td>\n",
       "      <td>2005</td>\n",
       "      <td>USA</td>\n",
       "      <td>2005-11-18</td>\n",
       "    </tr>\n",
       "    <tr>\n",
       "      <th>138676</th>\n",
       "      <td>Harry Potter and the Half-Blood Prince</td>\n",
       "      <td>2009</td>\n",
       "      <td>Canada</td>\n",
       "      <td>2009-07-15</td>\n",
       "    </tr>\n",
       "    <tr>\n",
       "      <th>138686</th>\n",
       "      <td>Harry Potter and the Half-Blood Prince</td>\n",
       "      <td>2009</td>\n",
       "      <td>Mexico</td>\n",
       "      <td>2009-07-15</td>\n",
       "    </tr>\n",
       "    <tr>\n",
       "      <th>138695</th>\n",
       "      <td>Harry Potter and the Half-Blood Prince</td>\n",
       "      <td>2009</td>\n",
       "      <td>USA</td>\n",
       "      <td>2009-07-15</td>\n",
       "    </tr>\n",
       "    <tr>\n",
       "      <th>138744</th>\n",
       "      <td>Harry Potter and the Order of the Phoenix</td>\n",
       "      <td>2007</td>\n",
       "      <td>Canada</td>\n",
       "      <td>2007-07-11</td>\n",
       "    </tr>\n",
       "    <tr>\n",
       "      <th>138759</th>\n",
       "      <td>Harry Potter and the Order of the Phoenix</td>\n",
       "      <td>2007</td>\n",
       "      <td>USA</td>\n",
       "      <td>2007-07-11</td>\n",
       "    </tr>\n",
       "    <tr>\n",
       "      <th>138765</th>\n",
       "      <td>Harry Potter and the Order of the Phoenix</td>\n",
       "      <td>2007</td>\n",
       "      <td>Mexico</td>\n",
       "      <td>2007-07-12</td>\n",
       "    </tr>\n",
       "    <tr>\n",
       "      <th>138815</th>\n",
       "      <td>Harry Potter and the Prisoner of Azkaban</td>\n",
       "      <td>2004</td>\n",
       "      <td>Canada</td>\n",
       "      <td>2004-06-04</td>\n",
       "    </tr>\n",
       "    <tr>\n",
       "      <th>138820</th>\n",
       "      <td>Harry Potter and the Prisoner of Azkaban</td>\n",
       "      <td>2004</td>\n",
       "      <td>Mexico</td>\n",
       "      <td>2004-06-04</td>\n",
       "    </tr>\n",
       "    <tr>\n",
       "      <th>138826</th>\n",
       "      <td>Harry Potter and the Prisoner of Azkaban</td>\n",
       "      <td>2004</td>\n",
       "      <td>USA</td>\n",
       "      <td>2004-06-04</td>\n",
       "    </tr>\n",
       "    <tr>\n",
       "      <th>138855</th>\n",
       "      <td>Harry Potter and the Sorcerer's Stone</td>\n",
       "      <td>2001</td>\n",
       "      <td>Canada</td>\n",
       "      <td>2001-11-16</td>\n",
       "    </tr>\n",
       "    <tr>\n",
       "      <th>138860</th>\n",
       "      <td>Harry Potter and the Sorcerer's Stone</td>\n",
       "      <td>2001</td>\n",
       "      <td>USA</td>\n",
       "      <td>2001-11-16</td>\n",
       "    </tr>\n",
       "    <tr>\n",
       "      <th>138883</th>\n",
       "      <td>Harry Potter and the Sorcerer's Stone</td>\n",
       "      <td>2001</td>\n",
       "      <td>Mexico</td>\n",
       "      <td>2001-11-30</td>\n",
       "    </tr>\n",
       "  </tbody>\n",
       "</table>\n",
       "</div>"
      ],
      "text/plain": [
       "                                               title  year country       date\n",
       "138430       Harry Potter and the Chamber of Secrets  2002  Canada 2002-11-15\n",
       "138434       Harry Potter and the Chamber of Secrets  2002     USA 2002-11-15\n",
       "138452       Harry Potter and the Chamber of Secrets  2002  Mexico 2002-11-29\n",
       "138499  Harry Potter and the Deathly Hallows: Part 1  2010  Mexico 2010-11-18\n",
       "138511  Harry Potter and the Deathly Hallows: Part 1  2010  Canada 2010-11-19\n",
       "138529  Harry Potter and the Deathly Hallows: Part 1  2010     USA 2010-11-19\n",
       "138584  Harry Potter and the Deathly Hallows: Part 2  2011  Canada 2011-07-15\n",
       "138592  Harry Potter and the Deathly Hallows: Part 2  2011  Mexico 2011-07-15\n",
       "138600  Harry Potter and the Deathly Hallows: Part 2  2011     USA 2011-07-15\n",
       "138616           Harry Potter and the Goblet of Fire  2005  Canada 2005-11-18\n",
       "138623           Harry Potter and the Goblet of Fire  2005  Mexico 2005-11-18\n",
       "138629           Harry Potter and the Goblet of Fire  2005     USA 2005-11-18\n",
       "138676        Harry Potter and the Half-Blood Prince  2009  Canada 2009-07-15\n",
       "138686        Harry Potter and the Half-Blood Prince  2009  Mexico 2009-07-15\n",
       "138695        Harry Potter and the Half-Blood Prince  2009     USA 2009-07-15\n",
       "138744     Harry Potter and the Order of the Phoenix  2007  Canada 2007-07-11\n",
       "138759     Harry Potter and the Order of the Phoenix  2007     USA 2007-07-11\n",
       "138765     Harry Potter and the Order of the Phoenix  2007  Mexico 2007-07-12\n",
       "138815      Harry Potter and the Prisoner of Azkaban  2004  Canada 2004-06-04\n",
       "138820      Harry Potter and the Prisoner of Azkaban  2004  Mexico 2004-06-04\n",
       "138826      Harry Potter and the Prisoner of Azkaban  2004     USA 2004-06-04\n",
       "138855         Harry Potter and the Sorcerer's Stone  2001  Canada 2001-11-16\n",
       "138860         Harry Potter and the Sorcerer's Stone  2001     USA 2001-11-16\n",
       "138883         Harry Potter and the Sorcerer's Stone  2001  Mexico 2001-11-30"
      ]
     },
     "execution_count": 14,
     "metadata": {},
     "output_type": "execute_result"
    }
   ],
   "source": [
    "# Pivot permite el reacomodo de los valores del dataframe, moviendo una columna como \n",
    "# indice, otra como llave de datos y otra para los valores\n",
    "\n",
    "# Ejemplo fechas de lanzamiento de peliculas Harry Potter en Mexico, USA y Canada\n",
    "fl = fecha_lanz \n",
    "fl = fl[fl.title.str.startswith(\"Harry Potter\")]\n",
    "\n",
    "fl = fl[(fl.country == \"Mexico\") | (fl.country == \"USA\") | (fl.country == \"Canada\")]\n",
    "fl "
   ]
  },
  {
   "cell_type": "code",
   "execution_count": 15,
   "metadata": {
    "collapsed": false
   },
   "outputs": [
    {
     "name": "stderr",
     "output_type": "stream",
     "text": [
      "C:\\Users\\osval\\AppData\\Local\\Temp\\ipykernel_3860\\3206193098.py:10: FutureWarning: In a future version of pandas all arguments of DataFrame.pivot will be keyword-only.\n",
      "  fl = fl.pivot('title','country','date')\n"
     ]
    },
    {
     "data": {
      "text/html": [
       "<div>\n",
       "<style scoped>\n",
       "    .dataframe tbody tr th:only-of-type {\n",
       "        vertical-align: middle;\n",
       "    }\n",
       "\n",
       "    .dataframe tbody tr th {\n",
       "        vertical-align: top;\n",
       "    }\n",
       "\n",
       "    .dataframe thead th {\n",
       "        text-align: right;\n",
       "    }\n",
       "</style>\n",
       "<table border=\"1\" class=\"dataframe\">\n",
       "  <thead>\n",
       "    <tr style=\"text-align: right;\">\n",
       "      <th>country</th>\n",
       "      <th>Canada</th>\n",
       "      <th>Mexico</th>\n",
       "      <th>USA</th>\n",
       "    </tr>\n",
       "    <tr>\n",
       "      <th>title</th>\n",
       "      <th></th>\n",
       "      <th></th>\n",
       "      <th></th>\n",
       "    </tr>\n",
       "  </thead>\n",
       "  <tbody>\n",
       "    <tr>\n",
       "      <th>Harry Potter and the Chamber of Secrets</th>\n",
       "      <td>2002-11-15</td>\n",
       "      <td>2002-11-29</td>\n",
       "      <td>2002-11-15</td>\n",
       "    </tr>\n",
       "    <tr>\n",
       "      <th>Harry Potter and the Deathly Hallows: Part 1</th>\n",
       "      <td>2010-11-19</td>\n",
       "      <td>2010-11-18</td>\n",
       "      <td>2010-11-19</td>\n",
       "    </tr>\n",
       "    <tr>\n",
       "      <th>Harry Potter and the Deathly Hallows: Part 2</th>\n",
       "      <td>2011-07-15</td>\n",
       "      <td>2011-07-15</td>\n",
       "      <td>2011-07-15</td>\n",
       "    </tr>\n",
       "    <tr>\n",
       "      <th>Harry Potter and the Goblet of Fire</th>\n",
       "      <td>2005-11-18</td>\n",
       "      <td>2005-11-18</td>\n",
       "      <td>2005-11-18</td>\n",
       "    </tr>\n",
       "    <tr>\n",
       "      <th>Harry Potter and the Half-Blood Prince</th>\n",
       "      <td>2009-07-15</td>\n",
       "      <td>2009-07-15</td>\n",
       "      <td>2009-07-15</td>\n",
       "    </tr>\n",
       "    <tr>\n",
       "      <th>Harry Potter and the Order of the Phoenix</th>\n",
       "      <td>2007-07-11</td>\n",
       "      <td>2007-07-12</td>\n",
       "      <td>2007-07-11</td>\n",
       "    </tr>\n",
       "    <tr>\n",
       "      <th>Harry Potter and the Prisoner of Azkaban</th>\n",
       "      <td>2004-06-04</td>\n",
       "      <td>2004-06-04</td>\n",
       "      <td>2004-06-04</td>\n",
       "    </tr>\n",
       "    <tr>\n",
       "      <th>Harry Potter and the Sorcerer's Stone</th>\n",
       "      <td>2001-11-16</td>\n",
       "      <td>2001-11-30</td>\n",
       "      <td>2001-11-16</td>\n",
       "    </tr>\n",
       "  </tbody>\n",
       "</table>\n",
       "</div>"
      ],
      "text/plain": [
       "country                                          Canada     Mexico        USA\n",
       "title                                                                        \n",
       "Harry Potter and the Chamber of Secrets      2002-11-15 2002-11-29 2002-11-15\n",
       "Harry Potter and the Deathly Hallows: Part 1 2010-11-19 2010-11-18 2010-11-19\n",
       "Harry Potter and the Deathly Hallows: Part 2 2011-07-15 2011-07-15 2011-07-15\n",
       "Harry Potter and the Goblet of Fire          2005-11-18 2005-11-18 2005-11-18\n",
       "Harry Potter and the Half-Blood Prince       2009-07-15 2009-07-15 2009-07-15\n",
       "Harry Potter and the Order of the Phoenix    2007-07-11 2007-07-12 2007-07-11\n",
       "Harry Potter and the Prisoner of Azkaban     2004-06-04 2004-06-04 2004-06-04\n",
       "Harry Potter and the Sorcerer's Stone        2001-11-16 2001-11-30 2001-11-16"
      ]
     },
     "execution_count": 15,
     "metadata": {},
     "output_type": "execute_result"
    }
   ],
   "source": [
    "# Reacomodemos los datos, \n",
    "# : title como indice\n",
    "# : country como columnas\n",
    "# : date como valores\n",
    "fl = fecha_lanz \n",
    "fl = fl[fl.title.str.startswith(\"Harry Potter\")]\n",
    "fl = fl[(fl.country == \"Mexico\") | (fl.country == \"USA\") | (fl.country == \"Canada\")]\n",
    "\n",
    "\n",
    "fl = fl.pivot('title','country','date')\n",
    "fl\n",
    "\n",
    "# Extra\n",
    "#fl.apply(lambda x : x.dt.month)"
   ]
  },
  {
   "cell_type": "code",
   "execution_count": null,
   "metadata": {
    "collapsed": false
   },
   "outputs": [],
   "source": []
  },
  {
   "cell_type": "markdown",
   "metadata": {},
   "source": [
    "## Ejercicios\n"
   ]
  },
  {
   "cell_type": "code",
   "execution_count": 16,
   "metadata": {
    "collapsed": true
   },
   "outputs": [],
   "source": [
    "# Del periodo 2010 al presente en cuantas peliculas ah participado\n",
    "# la actriz \"\""
   ]
  },
  {
   "cell_type": "code",
   "execution_count": 17,
   "metadata": {
    "collapsed": false
   },
   "outputs": [
    {
     "data": {
      "text/plain": [
       "<AxesSubplot: >"
      ]
     },
     "execution_count": 17,
     "metadata": {},
     "output_type": "execute_result"
    },
    {
     "data": {
      "image/png": "[encoded data removed]",
      "text/plain": [
       "<Figure size 640x480 with 1 Axes>"
      ]
     },
     "metadata": {},
     "output_type": "display_data"
    }
   ],
   "source": [
    "# En que fechas fue lanzada cada pelicula de \"Salma Hayek\"\n",
    "# dentro de un periodo de 1990 al presente en Mexico\n",
    "fl = fecha_lanz\n",
    "fl = fl[fl.country == 'USA']\n",
    "\n",
    "e = elenco\n",
    "e = e[e.name == 'Salma Hayek']\n",
    "e = e[(e.year > 1990)]\n",
    "\n",
    "e = e.merge(fl)\n",
    "#e\n",
    "# Una nueva nueva columna con los valores del mes\n",
    "e['month'] = e.date.dt.month\n",
    "e\n",
    "# Graficado\n",
    "e.month.value_counts().sort_index().plot(kind='bar',ylim=[0,10])"
   ]
  },
  {
   "cell_type": "code",
   "execution_count": null,
   "metadata": {
    "collapsed": true
   },
   "outputs": [],
   "source": []
  },
  {
   "cell_type": "code",
   "execution_count": 18,
   "metadata": {
    "collapsed": false
   },
   "outputs": [
    {
     "data": {
      "text/plain": [
       "<AxesSubplot: >"
      ]
     },
     "execution_count": 18,
     "metadata": {},
     "output_type": "execute_result"
    },
    {
     "data": {
      "image/png": "[encoded data removed]",
      "text/plain": [
       "<Figure size 640x480 with 1 Axes>"
      ]
     },
     "metadata": {},
     "output_type": "display_data"
    }
   ],
   "source": [
    "# En que dia de la semana se han lanzado en USA las peliculas de \n",
    "# donde aparece Tom Cuise.. Incluir un grafico \n",
    "\n",
    "fl = fecha_lanz\n",
    "fl = fl[fl.country == 'USA']\n",
    "\n",
    "e = elenco\n",
    "e = e[ (e.name == 'Tom Cruise') ] \n",
    "wd = e.merge(fl).date.dt.dayofweek.value_counts().sort_index()\n",
    "wd\n",
    "\n",
    "\n",
    "wd = wd.rename({4:'Friday', 3:'Thursday', 2:'Wednesday'})\n",
    "wd.plot(kind='bar')"
   ]
  },
  {
   "cell_type": "code",
   "execution_count": 19,
   "metadata": {
    "collapsed": false
   },
   "outputs": [
    {
     "data": {
      "text/plain": [
       "<AxesSubplot: ylabel='title,year'>"
      ]
     },
     "execution_count": 19,
     "metadata": {},
     "output_type": "execute_result"
    },
    {
     "data": {
      "image/png": "[encoded data removed]",
      "text/plain": [
       "<Figure size 640x480 with 1 Axes>"
      ]
     },
     "metadata": {},
     "output_type": "display_data"
    }
   ],
   "source": [
    "# Que peliculas han sido lanzadas en la mayor cantidad de \n",
    "# paises , incluir en un grafico las 5 mayores\n",
    "\n",
    "fl = fecha_lanz\n",
    "\n",
    "fl = fl.groupby(['title','year'])\n",
    "fl.size().sort_values(ascending=False)[:5].plot(kind='barh')\n"
   ]
  },
  {
   "cell_type": "code",
   "execution_count": 20,
   "metadata": {
    "collapsed": false
   },
   "outputs": [
    {
     "data": {
      "text/plain": [
       "name_x             name_y             \n",
       "Leonardo DiCaprio  Joseph P. Reidy        4\n",
       "                   J.C. MacKenzie         3\n",
       "                   Nellie Sciutto         3\n",
       "                   Steve Witting          3\n",
       "                   Joe Sheridan           2\n",
       "                                         ..\n",
       "                   Gloria Stuart          1\n",
       "                   Golshifteh Farahani    1\n",
       "                   Grace (II) Dove        1\n",
       "                   Grant Swanby           1\n",
       "                   Zineb Oukach           1\n",
       "Length: 1064, dtype: int64"
      ]
     },
     "execution_count": 20,
     "metadata": {},
     "output_type": "execute_result"
    }
   ],
   "source": [
    "# Quien tiende a ser el actor si clasificado (n > 1) que mas a \n",
    "# participado en peliculas donde el protagonista es\n",
    "# Leonardo DiCaprio \n",
    "\n",
    "e = elenco\n",
    "hf = e[(e.name == 'Leonardo DiCaprio') & (e.n == 1)]\n",
    "er = e[(e.n > 1)]\n",
    "mt = hf.merge(er,on=['title','year'])\n",
    "mt.groupby(['name_x','name_y']).size().sort_values(ascending=False)"
   ]
  }
 ],
 "metadata": {
  "kernelspec": {
   "display_name": "progrma2",
   "language": "python",
   "name": "python3"
  },
  "language_info": {
   "codemirror_mode": {
    "name": "ipython",
    "version": 3
   },
   "file_extension": ".py",
   "mimetype": "text/x-python",
   "name": "python",
   "nbconvert_exporter": "python",
   "pygments_lexer": "ipython3",
   "version": "3.8.16 (default, Jan 17 2023, 22:25:28) [MSC v.1916 64 bit (AMD64)]"
  },
  "vscode": {
   "interpreter": {
    "hash": "4d1e9685241859556e110a9762602881454d4d48d6248d124be558de354edd4e"
   }
  }
 },
 "nbformat": 4,
 "nbformat_minor": 0
}
