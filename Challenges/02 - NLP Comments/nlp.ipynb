{
 "cells": [
  {
   "cell_type": "markdown",
   "metadata": {},
   "source": [
    "## Challenge 2 : NLP Comments\n",
    "\n",
    "He decidido hacer un webscraping de reddit para detectar el sentimiento de los comentarios de las personas.\n"
   ]
  },
  {
   "cell_type": "code",
   "execution_count": 4,
   "metadata": {},
   "outputs": [
    {
     "name": "stdout",
     "output_type": "stream",
     "text": [
      "Title La historia se repite\n",
      "author aldodvp\n",
      "comment count 111\n",
      "Title Putazos captados por la cámara de Siteur.\n",
      "author WieserchGT\n",
      "comment count 154\n",
      "Title #GDL\n",
      "author Diablo1309\n",
      "comment count 81\n",
      "Title Duda existencial xd\n",
      "author Danidosdioses\n",
      "comment count 99\n",
      "Title Feminismo uniendo mujeres!\n",
      "author Candid-Boi15\n",
      "comment count 336\n",
      "Title \"Libertad\" El tinaco tapatío 🚢\n",
      "author P4R460Nm\n",
      "comment count 83\n",
      "Title Hice una animación en PixelArt del Tinaco xd\n",
      "author Beautiful-Two-6774\n",
      "comment count 51\n",
      "Title Salidas Nocturnas\n",
      "author GradeCommercial9407\n",
      "comment count 21\n",
      "Title En Reddit eso no hubiera pasado\n",
      "author CringeisL1f3\n",
      "comment count 32\n",
      "Title Nube iridiscente sobre Guadalajara, 5 de Julio 2023\n",
      "author VonNekros\n",
      "comment count 49\n",
      "En Guadalajara hasta el cielo es gei.\n",
      "Es bellísima 💕\n",
      "Nube de fuego creo que es el nombre coloquial.\n"
     ]
    }
   ],
   "source": [
    "import praw \n",
    "\n",
    "reddit = praw.Reddit(\n",
    "    client_id=\"CoLd6FUVsAop4D9tgPi8dw\",\n",
    "    client_secret=\"qq2ry8m8_aW8L3UoM49hGwG6-jDQOA\",\n",
    "    user_agent=\"mcd-programacion-ii\"\n",
    ")\n",
    "\n",
    "subreddit = reddit.subreddit(\"guadalajara\")\n",
    "\n",
    "top_posts = subreddit.top(limit=10)\n",
    "new_posts = subreddit.new(limit=10)\n",
    "\n",
    "for post in top_posts:\n",
    "    print(f\"Title {post.title}\" )\n",
    "    print(f\"author {post.author}\")\n",
    "    print(f\"comment count {post.num_comments}\")\n",
    "\n",
    "\n",
    "post = reddit.submission(id=post.id)\n",
    "comments = post.comments\n",
    "for comment in comments[:3]:\n",
    "    print(comment.body)"
   ]
  },
  {
   "cell_type": "code",
   "execution_count": null,
   "metadata": {},
   "outputs": [],
   "source": []
  }
 ],
 "metadata": {
  "kernelspec": {
   "display_name": "ProgramacionII",
   "language": "python",
   "name": "python3"
  },
  "language_info": {
   "codemirror_mode": {
    "name": "ipython",
    "version": 3
   },
   "file_extension": ".py",
   "mimetype": "text/x-python",
   "name": "python",
   "nbconvert_exporter": "python",
   "pygments_lexer": "ipython3",
   "version": "3.11.7"
  }
 },
 "nbformat": 4,
 "nbformat_minor": 2
}
